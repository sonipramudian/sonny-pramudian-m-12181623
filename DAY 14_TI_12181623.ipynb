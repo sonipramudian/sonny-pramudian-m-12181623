{
 "cells": [
  {
   "cell_type": "code",
   "execution_count": 1,
   "metadata": {},
   "outputs": [
    {
     "data": {
      "application/vnd.jupyter.widget-view+json": {
       "model_id": "e972bb30-a8ae-4139-a712-2fcc18950d8b",
       "version_major": 2,
       "version_minor": 0
      },
      "method": "display_data"
     },
     "metadata": {},
     "output_type": "display_data"
    }
   ],
   "source": [
    "%classpath add jar libs/*"
   ]
  },
  {
   "cell_type": "code",
   "execution_count": 4,
   "metadata": {},
   "outputs": [
    {
     "name": "stdout",
     "output_type": "stream",
     "text": [
      "                                                             12181623.csv                                                             \n",
      " _id  |  idx  |        vervar        |                        var                        |  turvar  |  tahun  |  turtahun  |  nilai  |\n",
      "--------------------------------------------------------------------------------------------------------------------------------------\n",
      "   1  |    0  |  Sekertariat Daerah  |  Banyaknya Pegawai Negeri Sipil Menurut Golongan  |  Jumlah  |   2009  |            |      9  |\n",
      "   2  |    1  |  Sekertariat Daerah  |  Banyaknya Pegawai Negeri Sipil Menurut Golongan  |  Jumlah  |   2013  |            |     11  |\n",
      "   3  |    2  |  Sekertariat Daerah  |  Banyaknya Pegawai Negeri Sipil Menurut Golongan  |  Jumlah  |   2014  |            |     11  |\n",
      "   4  |    3  |  Sekertariat Daerah  |  Banyaknya Pegawai Negeri Sipil Menurut Golongan  |      IV  |   2009  |            |      8  |\n",
      "   5  |    4  |  Sekertariat Daerah  |  Banyaknya Pegawai Negeri Sipil Menurut Golongan  |      IV  |   2013  |            |     11  |\n",
      "                                                                     12181623.json                                                                     \n",
      "               vervar                 |  tahun  |                        var                        |  nilai  |  turtahun  |  _id  |  idx  |  turvar  |\n",
      "-------------------------------------------------------------------------------------------------------------------------------------------------------\n",
      " Badan Penanggulangan Bencana Daerah  |   2013  |  Banyaknya Pegawai Negeri Sipil Menurut Golongan  |      0  |            |  539  |  538  |       I  |\n",
      " Badan Penanggulangan Bencana Daerah  |   2014  |  Banyaknya Pegawai Negeri Sipil Menurut Golongan  |      0  |            |  540  |  539  |       I  |\n",
      "              Kantor Distrik Naikere  |   2009  |  Banyaknya Pegawai Negeri Sipil Menurut Golongan  |     16  |            |  541  |  540  |  Jumlah  |\n",
      "              Kantor Distrik Naikere  |   2013  |  Banyaknya Pegawai Negeri Sipil Menurut Golongan  |     24  |            |  542  |  541  |  Jumlah  |\n",
      "              Kantor Distrik Naikere  |   2014  |  Banyaknya Pegawai Negeri Sipil Menurut Golongan  |     17  |            |  543  |  542  |  Jumlah  |\n",
      "                                                               12181623.csv                                                                \n",
      " _id  |  idx  |          vervar           |                        var                        |  turvar  |  tahun  |  turtahun  |  nilai  |\n",
      "-------------------------------------------------------------------------------------------------------------------------------------------\n",
      " 746  |  745  |  Kantor Kelurahan Wasior  |  Banyaknya Pegawai Negeri Sipil Menurut Golongan  |      II  |   2013  |            |      4  |\n",
      " 747  |  746  |  Kantor Kelurahan Wasior  |  Banyaknya Pegawai Negeri Sipil Menurut Golongan  |      II  |   2014  |            |      9  |\n",
      " 748  |  747  |  Kantor Kelurahan Wasior  |  Banyaknya Pegawai Negeri Sipil Menurut Golongan  |       I  |   2009  |            |      0  |\n",
      " 749  |  748  |  Kantor Kelurahan Wasior  |  Banyaknya Pegawai Negeri Sipil Menurut Golongan  |       I  |   2013  |            |      2  |\n",
      " 750  |  749  |  Kantor Kelurahan Wasior  |  Banyaknya Pegawai Negeri Sipil Menurut Golongan  |       I  |   2014  |            |      0  |\n",
      "                 12181623.csv summary                 \n",
      "    Mean [nilai]     |  Max [nilai]  |  Min [nilai]  |\n",
      "------------------------------------------------------\n",
      " 14.714666666666641  |          301  |            0  |"
     ]
    },
    {
     "data": {
      "text/plain": [
       "null"
      ]
     },
     "execution_count": 4,
     "metadata": {},
     "output_type": "execute_result"
    }
   ],
   "source": [
    "import tech.tablesaw.api.*;\n",
    "import tech.tablesaw.io.json.*;\n",
    "import static tech.tablesaw.aggregate.AggregateFunctions.*;\n",
    "\n",
    "// display Tablesaw tables with BeakerX table display widget\n",
    "tech.tablesaw.beakerx.TablesawDisplayer.register();\n",
    "\n",
    "//init objek\n",
    "Table dfSmallgrade = Table.read().csv(\"datasets/12181623/12181623.csv\");\n",
    "\n",
    "System.out.println(dfSmallgrade.first(5));\n",
    "\n",
    "//init objek JsonReader \n",
    "JsonReader reader = new JsonReader();\n",
    "\n",
    "//membaca file product.json\n",
    "JsonReadOptions fileJSON = JsonReadOptions.builder(\"datasets/12181623/12181623.json\").build();\n",
    "\n",
    "//memasukan data fileJSON ke dataframe \n",
    "Table tabeljson = reader.read(fileJSON);\n",
    "\n",
    "//menampilkan 4 data terkhir pada dataframe tabeljson\n",
    "System.out.println(tabeljson.first(5));\n",
    "                   \n",
    "//menggabungkan data pada dataframedata1 dan dataframedata2 untuk disimpan di df datagabung\n",
    "Table datagabung = dfSmallgrade.append(tabeljson);\n",
    "\n",
    "//menampilkan gabungan data yang ada di dataframe datagabung\n",
    "System.out.println(datagabung.last(5)); \n",
    "\n",
    "//menampilkan summary data yang ada di dataframe datagabung kolom \"grade\"\n",
    "System.out.print(datagabung.summarize(\"nilai\", mean, max, min).apply());"
   ]
  },
  {
   "cell_type": "code",
   "execution_count": null,
   "metadata": {},
   "outputs": [],
   "source": []
  }
 ],
 "metadata": {
  "kernelspec": {
   "display_name": "Java",
   "language": "java",
   "name": "java"
  },
  "language_info": {
   "codemirror_mode": "text/x-java",
   "file_extension": ".java",
   "mimetype": "",
   "name": "Java",
   "nbconverter_exporter": "",
   "version": "1.8.0_121"
  },
  "toc": {
   "base_numbering": 1,
   "nav_menu": {},
   "number_sections": false,
   "sideBar": false,
   "skip_h1_title": false,
   "title_cell": "Table of Contents",
   "title_sidebar": "Contents",
   "toc_cell": false,
   "toc_position": {},
   "toc_section_display": false,
   "toc_window_display": false
  }
 },
 "nbformat": 4,
 "nbformat_minor": 2
}
